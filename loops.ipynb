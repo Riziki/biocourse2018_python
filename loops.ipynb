{
 "cells": [
  {
   "cell_type": "code",
   "execution_count": 1,
   "metadata": {},
   "outputs": [
    {
     "name": "stdout",
     "output_type": "stream",
     "text": [
      "2\n",
      "3\n",
      "5\n"
     ]
    }
   ],
   "source": [
    "for number in [2, 3, 5]:\n",
    "    print(number) # in the body\n",
    "# out of the body again"
   ]
  },
  {
   "cell_type": "code",
   "execution_count": 4,
   "metadata": {},
   "outputs": [
    {
     "name": "stdout",
     "output_type": "stream",
     "text": [
      "1 0\n",
      "1 1\n",
      "1 2\n",
      "1 3\n",
      "1 4\n",
      "1 5\n",
      "1 6\n",
      "1 7\n",
      "1 8\n",
      "1 9\n",
      "2 0\n",
      "2 1\n",
      "2 2\n",
      "2 3\n",
      "2 4\n",
      "2 5\n",
      "2 6\n",
      "2 7\n",
      "2 8\n",
      "2 9\n",
      "3 0\n",
      "3 1\n",
      "3 2\n",
      "3 3\n",
      "3 4\n",
      "3 5\n",
      "3 6\n",
      "3 7\n",
      "3 8\n",
      "3 9\n"
     ]
    }
   ],
   "source": [
    "for number in [1, 2, 3]: # output loop\n",
    "    # in the body of outer loop\n",
    "    for other_number in [0, 1, 2, 3, 4, 5, 6, 7, 8, 9]: # inner loop\n",
    "        # in the body of inner loop\n",
    "        \n",
    "        print(number, other_number)\n",
    "    # in the body of outer loop\n",
    "# out of the body of the loops"
   ]
  },
  {
   "cell_type": "code",
   "execution_count": 5,
   "metadata": {},
   "outputs": [
    {
     "ename": "IndentationError",
     "evalue": "unexpected indent (<ipython-input-5-8d69f5bcff1f>, line 2)",
     "output_type": "error",
     "traceback": [
      "\u001b[0;36m  File \u001b[0;32m\"<ipython-input-5-8d69f5bcff1f>\"\u001b[0;36m, line \u001b[0;32m2\u001b[0m\n\u001b[0;31m    print(\"World\")\u001b[0m\n\u001b[0m    ^\u001b[0m\n\u001b[0;31mIndentationError\u001b[0m\u001b[0;31m:\u001b[0m unexpected indent\n"
     ]
    }
   ],
   "source": [
    "print(\"Hello\")\n",
    "    print(\"World\")"
   ]
  },
  {
   "cell_type": "code",
   "execution_count": 13,
   "metadata": {},
   "outputs": [
    {
     "name": "stdout",
     "output_type": "stream",
     "text": [
      "Don't worry be happy\n",
      "Karl Marx said: \"The philosophers have only interpreted the world but the point is to change it\"\n",
      "Don't worry be happy\n",
      "Walk\n",
      "a long long way\n",
      "to the far far place\n",
      "Björn Grüning is a Galaxy developer\n"
     ]
    }
   ],
   "source": [
    "print(\"Don't worry be happy\")\n",
    "print('Karl Marx said: \"The philosophers have only interpreted the world but the point is to change it\"')\n",
    "print('Don\\'t worry be happy')\n",
    "# triple quotes for multiline strings\n",
    "long_text = \"\"\"Walk\n",
    "a long long way\n",
    "to the far far place\"\"\"\n",
    "print(long_text)\n",
    "print(\"Björn Grüning is a Galaxy developer\")"
   ]
  },
  {
   "cell_type": "code",
   "execution_count": 14,
   "metadata": {},
   "outputs": [
    {
     "name": "stdout",
     "output_type": "stream",
     "text": [
      "35\n"
     ]
    }
   ],
   "source": [
    "numbers = [5, 6, 7, 8, 9]\n",
    "# what is  the total of these numbers added together?\n",
    "total = 0\n",
    "for num in numbers:\n",
    "    new_total = total + num\n",
    "    total = new_total\n",
    "print(total)"
   ]
  },
  {
   "cell_type": "code",
   "execution_count": null,
   "metadata": {},
   "outputs": [],
   "source": [
    "numbers = [5, 6, 7, 8, 9]\n",
    "# what is  the total of these numbers added together?\n",
    "total = 0\n",
    "for num in numbers:\n",
    "    total = total + num\n",
    "print(total)"
   ]
  },
  {
   "cell_type": "code",
   "execution_count": 16,
   "metadata": {},
   "outputs": [
    {
     "data": {
      "text/plain": [
       "35"
      ]
     },
     "execution_count": 16,
     "metadata": {},
     "output_type": "execute_result"
    }
   ],
   "source": [
    "# builtin sum function\n",
    "sum(numbers)"
   ]
  },
  {
   "cell_type": "code",
   "execution_count": 17,
   "metadata": {},
   "outputs": [
    {
     "name": "stdout",
     "output_type": "stream",
     "text": [
      "15120\n"
     ]
    }
   ],
   "source": [
    "# adapt to do the product of the list instead of sum\n",
    "numbers = [5, 6, 7, 8, 9]\n",
    "# what is  the total of these numbers added together?\n",
    "total = 1 # the accumulator - an \"identity value\"\n",
    "for num in numbers:\n",
    "    new_total = total * num\n",
    "    total = new_total\n",
    "print(total)"
   ]
  },
  {
   "cell_type": "code",
   "execution_count": 25,
   "metadata": {},
   "outputs": [
    {
     "name": "stdout",
     "output_type": "stream",
     "text": [
      "|fish|surfboard|onion|\n"
     ]
    }
   ],
   "source": [
    "strings = ['fish', 'surfboard', 'onion']\n",
    "result = ''\n",
    "for element in strings:\n",
    "    new_result = result + '|' + element\n",
    "    result = new_result\n",
    "result = result + '|' # put one final '|'\n",
    "print(result)"
   ]
  },
  {
   "cell_type": "code",
   "execution_count": 28,
   "metadata": {},
   "outputs": [
    {
     "name": "stdout",
     "output_type": "stream",
     "text": [
      "fish|surfboard|onion\n"
     ]
    }
   ],
   "source": [
    "strings = ['fish', 'surfboard', 'onion']\n",
    "result = ''\n",
    "for element in strings:\n",
    "    new_result = result + element + '|'\n",
    "    result = new_result\n",
    "result = result[:-1]\n",
    "print(result)"
   ]
  },
  {
   "cell_type": "code",
   "execution_count": 29,
   "metadata": {},
   "outputs": [
    {
     "data": {
      "text/plain": [
       "'fish|surfboard|onion'"
      ]
     },
     "execution_count": 29,
     "metadata": {},
     "output_type": "execute_result"
    }
   ],
   "source": [
    "# another way to do this\n",
    "\"|\".join(strings)"
   ]
  },
  {
   "cell_type": "code",
   "execution_count": 32,
   "metadata": {},
   "outputs": [
    {
     "name": "stdout",
     "output_type": "stream",
     "text": [
      "35\n",
      "average: 7.0\n"
     ]
    }
   ],
   "source": [
    "# using 2 accumulators for an average\n",
    "numbers = [5, 6, 7, 8, 9]\n",
    "# what is  the total of these numbers added together?\n",
    "total = 0\n",
    "count = 0\n",
    "for num in numbers:\n",
    "    total = total + num\n",
    "    count = count + 1\n",
    "print(total)\n",
    "avg = total / count\n",
    "print(\"average:\", avg)"
   ]
  },
  {
   "cell_type": "code",
   "execution_count": 33,
   "metadata": {},
   "outputs": [
    {
     "name": "stdout",
     "output_type": "stream",
     "text": [
      "average: 7.0\n"
     ]
    }
   ],
   "source": [
    "# another way to do an average\n",
    "print(\"average:\", sum(numbers) / len(numbers))"
   ]
  },
  {
   "cell_type": "code",
   "execution_count": 34,
   "metadata": {},
   "outputs": [
    {
     "name": "stdout",
     "output_type": "stream",
     "text": [
      "nit\n"
     ]
    }
   ],
   "source": [
    "# reverse a string\n",
    "original = \"tin\"\n",
    "result = ''\n",
    "for char in original:\n",
    "    result = char + result\n",
    "print(result)"
   ]
  },
  {
   "cell_type": "code",
   "execution_count": null,
   "metadata": {},
   "outputs": [],
   "source": []
  }
 ],
 "metadata": {
  "kernelspec": {
   "display_name": "Python [Root]",
   "language": "python",
   "name": "Python [Root]"
  },
  "language_info": {
   "codemirror_mode": {
    "name": "ipython",
    "version": 3
   },
   "file_extension": ".py",
   "mimetype": "text/x-python",
   "name": "python",
   "nbconvert_exporter": "python",
   "pygments_lexer": "ipython3",
   "version": "3.5.4"
  }
 },
 "nbformat": 4,
 "nbformat_minor": 2
}
