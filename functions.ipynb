{
 "cells": [
  {
   "cell_type": "code",
   "execution_count": 1,
   "metadata": {},
   "outputs": [
    {
     "name": "stdout",
     "output_type": "stream",
     "text": [
      "613\n"
     ]
    }
   ],
   "source": [
    "rate = 0.2\n",
    "pop_size = 100\n",
    "\n",
    "original_pop_size = pop_size\n",
    "for num in range(10):\n",
    "    new_pop_size = pop_size + int(pop_size * rate)\n",
    "    pop_size = new_pop_size\n",
    "print(pop_size)"
   ]
  },
  {
   "cell_type": "code",
   "execution_count": 2,
   "metadata": {},
   "outputs": [],
   "source": [
    "# define the function\n",
    "# Python will interpret this code\n",
    "# ready to be executed later\n",
    "def population_size(initial_size, rate):\n",
    "    pop_size = initial_size\n",
    "    for num in range(10):\n",
    "        new_pop_size = pop_size + int(pop_size * rate)\n",
    "        pop_size = new_pop_size\n",
    "    print(pop_size)"
   ]
  },
  {
   "cell_type": "code",
   "execution_count": 3,
   "metadata": {},
   "outputs": [],
   "source": [
    "a = 5"
   ]
  },
  {
   "cell_type": "code",
   "execution_count": 4,
   "metadata": {},
   "outputs": [
    {
     "name": "stdout",
     "output_type": "stream",
     "text": [
      "613\n"
     ]
    }
   ],
   "source": [
    "pop_size = 100\n",
    "population_size(pop_size, 0.2)"
   ]
  },
  {
   "cell_type": "code",
   "execution_count": 6,
   "metadata": {},
   "outputs": [
    {
     "name": "stdout",
     "output_type": "stream",
     "text": [
      "pop_size: <class 'int'>\n",
      "population_size: <class 'function'>\n"
     ]
    }
   ],
   "source": [
    "print(\"pop_size:\", type(pop_size))\n",
    "print(\"population_size:\", type(population_size))"
   ]
  },
  {
   "cell_type": "code",
   "execution_count": 7,
   "metadata": {},
   "outputs": [
    {
     "name": "stdout",
     "output_type": "stream",
     "text": [
      "256\n"
     ]
    }
   ],
   "source": [
    "population_size(pop_size, 0.1)"
   ]
  },
  {
   "cell_type": "code",
   "execution_count": 8,
   "metadata": {},
   "outputs": [
    {
     "name": "stdout",
     "output_type": "stream",
     "text": [
      "1365\n"
     ]
    }
   ],
   "source": [
    "population_size(pop_size, 0.3)"
   ]
  },
  {
   "cell_type": "code",
   "execution_count": 9,
   "metadata": {},
   "outputs": [
    {
     "name": "stdout",
     "output_type": "stream",
     "text": [
      "676\n"
     ]
    }
   ],
   "source": [
    "population_size(50, 0.3)"
   ]
  },
  {
   "cell_type": "code",
   "execution_count": 10,
   "metadata": {},
   "outputs": [
    {
     "ename": "TypeError",
     "evalue": "can't multiply sequence by non-int of type 'float'",
     "output_type": "error",
     "traceback": [
      "\u001b[0;31m---------------------------------------------------------------------------\u001b[0m",
      "\u001b[0;31mTypeError\u001b[0m                                 Traceback (most recent call last)",
      "\u001b[0;32m<ipython-input-10-1d9ef5cd2916>\u001b[0m in \u001b[0;36m<module>\u001b[0;34m()\u001b[0m\n\u001b[0;32m----> 1\u001b[0;31m \u001b[0mpopulation_size\u001b[0m\u001b[0;34m(\u001b[0m\u001b[0;34m\"apple\"\u001b[0m\u001b[0;34m,\u001b[0m \u001b[0;36m0.3\u001b[0m\u001b[0;34m)\u001b[0m\u001b[0;34m\u001b[0m\u001b[0m\n\u001b[0m",
      "\u001b[0;32m<ipython-input-2-d24b894f37cb>\u001b[0m in \u001b[0;36mpopulation_size\u001b[0;34m(initial_size, rate)\u001b[0m\n\u001b[1;32m      2\u001b[0m     \u001b[0mpop_size\u001b[0m \u001b[0;34m=\u001b[0m \u001b[0minitial_size\u001b[0m\u001b[0;34m\u001b[0m\u001b[0m\n\u001b[1;32m      3\u001b[0m     \u001b[0;32mfor\u001b[0m \u001b[0mnum\u001b[0m \u001b[0;32min\u001b[0m \u001b[0mrange\u001b[0m\u001b[0;34m(\u001b[0m\u001b[0;36m10\u001b[0m\u001b[0;34m)\u001b[0m\u001b[0;34m:\u001b[0m\u001b[0;34m\u001b[0m\u001b[0m\n\u001b[0;32m----> 4\u001b[0;31m         \u001b[0mnew_pop_size\u001b[0m \u001b[0;34m=\u001b[0m \u001b[0mpop_size\u001b[0m \u001b[0;34m+\u001b[0m \u001b[0mint\u001b[0m\u001b[0;34m(\u001b[0m\u001b[0mpop_size\u001b[0m \u001b[0;34m*\u001b[0m \u001b[0mrate\u001b[0m\u001b[0;34m)\u001b[0m\u001b[0;34m\u001b[0m\u001b[0m\n\u001b[0m\u001b[1;32m      5\u001b[0m         \u001b[0mpop_size\u001b[0m \u001b[0;34m=\u001b[0m \u001b[0mnew_pop_size\u001b[0m\u001b[0;34m\u001b[0m\u001b[0m\n\u001b[1;32m      6\u001b[0m     \u001b[0mprint\u001b[0m\u001b[0;34m(\u001b[0m\u001b[0mpop_size\u001b[0m\u001b[0;34m)\u001b[0m\u001b[0;34m\u001b[0m\u001b[0m\n",
      "\u001b[0;31mTypeError\u001b[0m: can't multiply sequence by non-int of type 'float'"
     ]
    }
   ],
   "source": [
    "population_size(\"apple\", 0.3)"
   ]
  },
  {
   "cell_type": "code",
   "execution_count": 11,
   "metadata": {},
   "outputs": [
    {
     "name": "stdout",
     "output_type": "stream",
     "text": [
      "-613\n"
     ]
    }
   ],
   "source": [
    "population_size(-100, 0.2)"
   ]
  },
  {
   "cell_type": "code",
   "execution_count": 14,
   "metadata": {},
   "outputs": [
    {
     "ename": "TypeError",
     "evalue": "int() takes at most 2 arguments (5 given)",
     "output_type": "error",
     "traceback": [
      "\u001b[0;31m---------------------------------------------------------------------------\u001b[0m",
      "\u001b[0;31mTypeError\u001b[0m                                 Traceback (most recent call last)",
      "\u001b[0;32m<ipython-input-14-e2335c319f11>\u001b[0m in \u001b[0;36m<module>\u001b[0;34m()\u001b[0m\n\u001b[0;32m----> 1\u001b[0;31m \u001b[0mint\u001b[0m\u001b[0;34m(\u001b[0m\u001b[0;36m1\u001b[0m\u001b[0;34m,\u001b[0m\u001b[0;36m2\u001b[0m\u001b[0;34m,\u001b[0m\u001b[0;36m3\u001b[0m\u001b[0;34m,\u001b[0m\u001b[0;36m4\u001b[0m\u001b[0;34m,\u001b[0m\u001b[0;36m5\u001b[0m\u001b[0;34m)\u001b[0m\u001b[0;34m\u001b[0m\u001b[0m\n\u001b[0m",
      "\u001b[0;31mTypeError\u001b[0m: int() takes at most 2 arguments (5 given)"
     ]
    }
   ],
   "source": [
    "int(1,2,3,4,5)"
   ]
  },
  {
   "cell_type": "code",
   "execution_count": 15,
   "metadata": {},
   "outputs": [
    {
     "ename": "TypeError",
     "evalue": "population_size() missing 2 required positional arguments: 'initial_size' and 'rate'",
     "output_type": "error",
     "traceback": [
      "\u001b[0;31m---------------------------------------------------------------------------\u001b[0m",
      "\u001b[0;31mTypeError\u001b[0m                                 Traceback (most recent call last)",
      "\u001b[0;32m<ipython-input-15-e13166caf8e8>\u001b[0m in \u001b[0;36m<module>\u001b[0;34m()\u001b[0m\n\u001b[0;32m----> 1\u001b[0;31m \u001b[0mpopulation_size\u001b[0m\u001b[0;34m(\u001b[0m\u001b[0;34m)\u001b[0m\u001b[0;34m\u001b[0m\u001b[0m\n\u001b[0m",
      "\u001b[0;31mTypeError\u001b[0m: population_size() missing 2 required positional arguments: 'initial_size' and 'rate'"
     ]
    }
   ],
   "source": [
    "population_size()"
   ]
  },
  {
   "cell_type": "code",
   "execution_count": 21,
   "metadata": {},
   "outputs": [],
   "source": [
    "def print_repeat(seq, num_copies):\n",
    "    \"\"\"Prints a microsatellite repeat\n",
    "    \n",
    "    Parameters:\n",
    "    - seq - the sequence to repeat\n",
    "    - num_copies - the number of copies of seq in the repeat\"\"\"\n",
    "    repeat = ''\n",
    "    for num in range(num_copies):\n",
    "        new_repeat = repeat + seq\n",
    "        repeat = new_repeat\n",
    "    print(repeat)\n",
    "# this (below) is not part of the function \n",
    "# print(seq * num_copies)"
   ]
  },
  {
   "cell_type": "code",
   "execution_count": 22,
   "metadata": {},
   "outputs": [
    {
     "name": "stdout",
     "output_type": "stream",
     "text": [
      "CACACACACACACACACACA\n"
     ]
    }
   ],
   "source": [
    "print_repeat('CA', 10)"
   ]
  },
  {
   "cell_type": "code",
   "execution_count": 23,
   "metadata": {},
   "outputs": [
    {
     "data": {
      "text/plain": [
       "43"
      ]
     },
     "execution_count": 23,
     "metadata": {},
     "output_type": "execute_result"
    }
   ],
   "source": [
    "int('43')"
   ]
  },
  {
   "cell_type": "code",
   "execution_count": 24,
   "metadata": {},
   "outputs": [
    {
     "name": "stdout",
     "output_type": "stream",
     "text": [
      "CACACACACACACACACACA\n"
     ]
    }
   ],
   "source": [
    "value  = print_repeat('CA', 10)"
   ]
  },
  {
   "cell_type": "code",
   "execution_count": 25,
   "metadata": {},
   "outputs": [
    {
     "name": "stdout",
     "output_type": "stream",
     "text": [
      "None\n"
     ]
    }
   ],
   "source": [
    "print(value)"
   ]
  },
  {
   "cell_type": "code",
   "execution_count": 26,
   "metadata": {},
   "outputs": [
    {
     "data": {
      "text/plain": [
       "'tomato'"
      ]
     },
     "execution_count": 26,
     "metadata": {},
     "output_type": "execute_result"
    }
   ],
   "source": [
    "my_vegetable = 'tomato'\n",
    "my_vegetable"
   ]
  },
  {
   "cell_type": "code",
   "execution_count": 32,
   "metadata": {},
   "outputs": [],
   "source": [
    "def pounds_to_kg(pounds):\n",
    "    kg_weight = pounds * 0.45\n",
    "    return kg_weight\n",
    "    print(\"Hello everyone\")"
   ]
  },
  {
   "cell_type": "code",
   "execution_count": 31,
   "metadata": {},
   "outputs": [
    {
     "name": "stdout",
     "output_type": "stream",
     "text": [
      "10.35\n"
     ]
    }
   ],
   "source": [
    "dog_name = 'Twinkle'\n",
    "dog_weight = 23 #  weight in pounds\n",
    "dog_weight_kg = pounds_to_kg(dog_weight)\n",
    "print(dog_weight_kg)"
   ]
  },
  {
   "cell_type": "code",
   "execution_count": 33,
   "metadata": {},
   "outputs": [],
   "source": [
    "def kg_to_pounds(weight):\n",
    "    return weight * 2.22"
   ]
  },
  {
   "cell_type": "code",
   "execution_count": 34,
   "metadata": {},
   "outputs": [
    {
     "name": "stdout",
     "output_type": "stream",
     "text": [
      "2.664\n"
     ]
    }
   ],
   "source": [
    "chicken_name = 'Bob'\n",
    "chicken_weight_kg = 1.2\n",
    "chicken_weight_pounds = kg_to_pounds(chicken_weight_kg)\n",
    "print(chicken_weight_pounds)"
   ]
  },
  {
   "cell_type": "code",
   "execution_count": 35,
   "metadata": {},
   "outputs": [],
   "source": [
    "def add_to_list(element, mylist):\n",
    "    mylist.append(element)"
   ]
  },
  {
   "cell_type": "code",
   "execution_count": 36,
   "metadata": {},
   "outputs": [
    {
     "name": "stdout",
     "output_type": "stream",
     "text": [
      "[1, 3]\n"
     ]
    }
   ],
   "source": [
    "# aliasing in action because a list is a mutable type\n",
    "the_original_list = [1]\n",
    "add_to_list(3, the_original_list)\n",
    "print(the_original_list)"
   ]
  },
  {
   "cell_type": "code",
   "execution_count": 37,
   "metadata": {},
   "outputs": [
    {
     "name": "stdout",
     "output_type": "stream",
     "text": [
      "[1]\n"
     ]
    }
   ],
   "source": [
    "# aliasing avoided\n",
    "the_original_list = [1]\n",
    "add_to_list(3, the_original_list[:])\n",
    "print(the_original_list)"
   ]
  },
  {
   "cell_type": "code",
   "execution_count": 42,
   "metadata": {},
   "outputs": [
    {
     "name": "stdout",
     "output_type": "stream",
     "text": [
      "6\n"
     ]
    }
   ],
   "source": [
    "def product(numbers):\n",
    "    \"\"\"product(numbers)\n",
    "    \n",
    "    Parameters:\n",
    "    - numbers - a list of numbers\n",
    "    returns: the product of the list of numbers\"\"\"\n",
    "    product = 1\n",
    "    for num  in numbers:\n",
    "        new_product = product * num\n",
    "        product = new_product\n",
    "    return product\n",
    "# in the body of my main program\n",
    "numberlist = [1, 2, 3]\n",
    "value = product(numberlist)\n",
    "print(value)"
   ]
  },
  {
   "cell_type": "code",
   "execution_count": 44,
   "metadata": {},
   "outputs": [],
   "source": [
    "def dog_stats(weights):\n",
    "    \"\"\"dog_stats: \n",
    "    Parameters:\n",
    "    - weights - list of dog weights\n",
    "    returns: total weight of dogs and number of dogs\"\"\"\n",
    "    total_weight = 0\n",
    "    for weight in weights:\n",
    "        new_total_weight = total_weight + weight\n",
    "        total_weight = new_total_weight\n",
    "    return total_weight, len(weights)"
   ]
  },
  {
   "cell_type": "code",
   "execution_count": 49,
   "metadata": {},
   "outputs": [
    {
     "name": "stdout",
     "output_type": "stream",
     "text": [
      "(31.2, 3)\n",
      "<class 'tuple'>\n",
      "total weight: 31.2 number of dogs: 3\n",
      "total weight: 31.2 number of dogs: 3\n"
     ]
    }
   ],
   "source": [
    "dog_weights = [10, 8, 13.2]\n",
    "value = dog_stats(dog_weights)\n",
    "print(value)\n",
    "print(type(value))\n",
    "print(\"total weight:\", value[0], \"number of dogs:\", value[1])\n",
    "tot_weight, num_dogs = dog_stats(dog_weights)\n",
    "print('total weight:', tot_weight, 'number of dogs:', num_dogs)"
   ]
  },
  {
   "cell_type": "code",
   "execution_count": 51,
   "metadata": {},
   "outputs": [],
   "source": [
    "tot_weight = dog_stats(dog_weights)\n"
   ]
  },
  {
   "cell_type": "code",
   "execution_count": null,
   "metadata": {},
   "outputs": [],
   "source": [
    "# Theropoda body mass formula\n",
    "# mass = 0.73 x (body_length to the power 3.63)\n",
    "return mass\n",
    "___ get_theropoda_mass_from_length(___):\n",
    "    mass = 0.73 * ___ ** 3.63"
   ]
  },
  {
   "cell_type": "code",
   "execution_count": 54,
   "metadata": {},
   "outputs": [
    {
     "name": "stdout",
     "output_type": "stream",
     "text": [
      "9.037779562287557\n"
     ]
    }
   ],
   "source": [
    "def theropoda_mass(length):\n",
    "    mass=0.73 * length ** 3.63\n",
    "    return mass\n",
    "\n",
    "massor2metertheropoda = theropoda_mass(2)\n",
    "print (massor2metertheropoda)"
   ]
  },
  {
   "cell_type": "code",
   "execution_count": null,
   "metadata": {},
   "outputs": [],
   "source": []
  }
 ],
 "metadata": {
  "kernelspec": {
   "display_name": "Python [Root]",
   "language": "python",
   "name": "Python [Root]"
  },
  "language_info": {
   "codemirror_mode": {
    "name": "ipython",
    "version": 3
   },
   "file_extension": ".py",
   "mimetype": "text/x-python",
   "name": "python",
   "nbconvert_exporter": "python",
   "pygments_lexer": "ipython3",
   "version": "3.5.4"
  }
 },
 "nbformat": 4,
 "nbformat_minor": 2
}
