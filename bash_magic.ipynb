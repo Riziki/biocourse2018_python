{
 "cells": [
  {
   "cell_type": "code",
   "execution_count": 6,
   "metadata": {},
   "outputs": [
    {
     "name": "stdout",
     "output_type": "stream",
     "text": [
      "   9 methane.pdb\n"
     ]
    }
   ],
   "source": [
    "%%bash\n",
    "# this doesn't appear to work on Windows \n",
    "# these are bash commands\n",
    "cd ~\n",
    "cd data-shell/molecules\n",
    "wc -l *.pdb |sort -n |head -1"
   ]
  },
  {
   "cell_type": "code",
   "execution_count": 11,
   "metadata": {},
   "outputs": [],
   "source": [
    "import pandas\n",
    "data = pandas.read_csv('gapminder_gdp_africa.csv',  index_col='country')"
   ]
  },
  {
   "cell_type": "code",
   "execution_count": 10,
   "metadata": {},
   "outputs": [
    {
     "name": "stdout",
     "output_type": "stream",
     "text": [
      "The rpy2.ipython extension is already loaded. To reload it, use:\n",
      "  %reload_ext rpy2.ipython\n"
     ]
    }
   ],
   "source": [
    "%load_ext rpy2.ipython\n",
    "# to install this extension, in your Anaconda (Terminal or Anaconda Prompt)\n",
    "# do \n",
    "# conda install -y rpy2\n",
    "# this will install the rpy2 module that links Python and R\n",
    "# and perhaps modules like ggplot with\n",
    "# conda install -y r-ggplot2"
   ]
  },
  {
   "cell_type": "code",
   "execution_count": 14,
   "metadata": {},
   "outputs": [
    {
     "data": {
      "text/plain": [
       "                         gdpPercap_1952\n",
       "Algeria                       2449.0082\n",
       "Angola                        3520.6103\n",
       "Benin                         1062.7522\n",
       "Botswana                       851.2411\n",
       "Burkina Faso                   543.2552\n",
       "Burundi                        339.2965\n",
       "Cameroon                      1172.6677\n",
       "Central African Republic      1071.3107\n",
       "Chad                          1178.6659\n",
       "Comoros                       1102.9909\n",
       "Congo Dem. Rep.                780.5423\n",
       "Congo Rep.                    2125.6214\n",
       "Cote d'Ivoire                 1388.5947\n",
       "Djibouti                      2669.5295\n",
       "Egypt                         1418.8224\n",
       "Equatorial Guinea              375.6431\n",
       "Eritrea                        328.9406\n",
       "Ethiopia                       362.1463\n",
       "Gabon                         4293.4765\n",
       "Gambia                         485.2307\n",
       "Ghana                          911.2989\n",
       "Guinea                         510.1965\n",
       "Guinea-Bissau                  299.8503\n",
       "Kenya                          853.5409\n",
       "Lesotho                        298.8462\n",
       "Liberia                        575.5730\n",
       "Libya                         2387.5481\n",
       "Madagascar                    1443.0117\n",
       "Malawi                         369.1651\n",
       "Mali                           452.3370\n",
       "Mauritania                     743.1159\n",
       "Mauritius                     1967.9557\n",
       "Morocco                       1688.2036\n",
       "Mozambique                     468.5260\n",
       "Namibia                       2423.7804\n",
       "Niger                          761.8794\n",
       "Nigeria                       1077.2819\n",
       "Reunion                       2718.8853\n",
       "Rwanda                         493.3239\n",
       "Sao Tome and Principe          879.5836\n",
       "Senegal                       1450.3570\n",
       "Sierra Leone                   879.7877\n",
       "Somalia                       1135.7498\n",
       "South Africa                  4725.2955\n",
       "Sudan                         1615.9911\n",
       "Swaziland                     1148.3766\n",
       "Tanzania                       716.6501\n",
       "Togo                           859.8087\n",
       "Tunisia                       1468.4756\n",
       "Uganda                         734.7535\n",
       "Zambia                        1147.3888\n",
       "Zimbabwe                       406.8841\n"
      ]
     },
     "metadata": {},
     "output_type": "display_data"
    }
   ],
   "source": [
    "%%R -i data\n",
    "# this is R code\n",
    "data[\"gdpPercap_1952\"]\n",
    "# for more read the DataCamp page: \n",
    "# https://www.datacamp.com/community/blog/jupyter-notebook-r"
   ]
  },
  {
   "cell_type": "code",
   "execution_count": null,
   "metadata": {},
   "outputs": [],
   "source": []
  }
 ],
 "metadata": {
  "kernelspec": {
   "display_name": "Python [Root]",
   "language": "python",
   "name": "Python [Root]"
  },
  "language_info": {
   "codemirror_mode": {
    "name": "ipython",
    "version": 3
   },
   "file_extension": ".py",
   "mimetype": "text/x-python",
   "name": "python",
   "nbconvert_exporter": "python",
   "pygments_lexer": "ipython3",
   "version": "3.5.4"
  }
 },
 "nbformat": 4,
 "nbformat_minor": 2
}
