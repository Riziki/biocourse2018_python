{
 "cells": [
  {
   "cell_type": "markdown",
   "metadata": {},
   "source": [
    "### Aliasing\n",
    "Variables give us \"handles\" on values that are stored in a computer's memory. Aliasing is the phenomenon of two (or more) variables that refer to the same data in memory. Wikipedia has an [article](https://en.wikipedia.org/wiki/Aliasing_(computing)) on this.\n",
    "\n",
    "In Python this affects mutable types, like lists. Below is an example."
   ]
  },
  {
   "cell_type": "code",
   "execution_count": 3,
   "metadata": {},
   "outputs": [
    {
     "name": "stdout",
     "output_type": "stream",
     "text": [
      "10\n",
      "20\n",
      "30\n"
     ]
    }
   ],
   "source": [
    "# first, as a loop\n",
    "# using range() and len() I can get the range of indices possible in a list\n",
    "# e.g. to print numbers in a list:\n",
    "numbers = [10, 20, 30]\n",
    "numbers_length = len(numbers)\n",
    "for index in range(numbers_length):\n",
    "    print(numbers[index])"
   ]
  },
  {
   "cell_type": "code",
   "execution_count": 6,
   "metadata": {},
   "outputs": [
    {
     "name": "stdout",
     "output_type": "stream",
     "text": [
      "original list: [10, 20, 30]\n",
      "the same list, now each value is doubled: [20, 40, 60]\n"
     ]
    }
   ],
   "source": [
    "# this lets us update the list as we go through it\n",
    "numbers = [10, 20, 30]\n",
    "numbers_length = len(numbers)\n",
    "print(\"original list:\", numbers)\n",
    "for index in range(numbers_length):\n",
    "    original = numbers[index]\n",
    "    new_number = original * 2\n",
    "    numbers[index] = new_number\n",
    "print(\"the same list, now each value is doubled:\", numbers)"
   ]
  },
  {
   "cell_type": "code",
   "execution_count": 7,
   "metadata": {},
   "outputs": [
    {
     "name": "stdout",
     "output_type": "stream",
     "text": [
      "original list: [10, 20, 30]\n",
      "original list (stayed the same): [10, 20, 30]\n",
      "new list (doubles): [20, 40, 60]\n"
     ]
    }
   ],
   "source": [
    "# but we can also produce results in a new list\n",
    "# instead of modifying in place\n",
    "numbers = [10, 20, 30]\n",
    "doubles = []\n",
    "print(\"original list:\", numbers)\n",
    "# this time we don't need the indexes of the list elements\n",
    "for num in numbers:\n",
    "    new_number = num * 2\n",
    "    doubles.append(new_number)\n",
    "print(\"original list (stayed the same):\", numbers)\n",
    "print(\"new list (doubles):\", doubles)"
   ]
  },
  {
   "cell_type": "markdown",
   "metadata": {},
   "source": [
    "### Pass by reference\n",
    "Python uses \"pass by reference\" semantics for its function parameters. In other words, even though the function\n",
    "parameter can have a different name to the variable that is passed to the function, it refers to the same value.\n",
    "Not all programming languages use the \"pass by reference\" rule. Some of them use \"pass by value\": i.e. they make a copy\n",
    "of the value that the variable refers to and pass this to the function. On Stack Overflow there is a \n",
    "[discussion](https://stackoverflow.com/questions/373419/whats-the-difference-between-passing-by-reference-vs-passing-by-value) of\n",
    "the difference between these two semantics."
   ]
  },
  {
   "cell_type": "code",
   "execution_count": 8,
   "metadata": {},
   "outputs": [],
   "source": [
    "# so let us look at doubling again\n",
    "# this time using functions\n",
    "def double_in_place(alist):\n",
    "    length = len(alist)\n",
    "    for index in range(length):\n",
    "        new_number = alist[index] * 2\n",
    "        alist[index] = new_number\n",
    "    # this code does not need to return a value\n",
    "    # because it changes the list \"in place\""
   ]
  },
  {
   "cell_type": "code",
   "execution_count": 9,
   "metadata": {},
   "outputs": [],
   "source": [
    "def return_double(alist):\n",
    "    doubles = []\n",
    "    # keeping the range() and len() and index way of doing things\n",
    "    # to show that *that* is not the important part\n",
    "    length = len(alist)\n",
    "    for index in range(length):\n",
    "        new_number = alist[index] * 2\n",
    "        doubles.append(new_number)\n",
    "    # here we transfered alist into doubles\n",
    "    # so we need to return the transformed list\n",
    "    return doubles"
   ]
  },
  {
   "cell_type": "code",
   "execution_count": 12,
   "metadata": {},
   "outputs": [
    {
     "name": "stdout",
     "output_type": "stream",
     "text": [
      "numbers is now: [100, 200, 300]\n",
      "numbers is now: [200, 400, 600]\n",
      "doubles is now: None\n"
     ]
    }
   ],
   "source": [
    "# now let me use the functions\n",
    "numbers = [100, 200, 300]\n",
    "print(\"numbers is now:\", numbers)\n",
    "doubles = double_in_place(numbers)\n",
    "print(\"numbers is now:\", numbers)\n",
    "print(\"doubles is now:\", doubles)"
   ]
  },
  {
   "cell_type": "code",
   "execution_count": 13,
   "metadata": {},
   "outputs": [
    {
     "name": "stdout",
     "output_type": "stream",
     "text": [
      "numbers is now: [100, 200, 300]\n",
      "numbers is now: [100, 200, 300]\n",
      "doubles is now: [200, 400, 600]\n"
     ]
    }
   ],
   "source": [
    "numbers = [100, 200, 300]\n",
    "print(\"numbers is now:\", numbers)\n",
    "doubles = return_double(numbers)\n",
    "print(\"numbers is now:\", numbers)\n",
    "print(\"doubles is now:\", doubles)"
   ]
  },
  {
   "cell_type": "markdown",
   "metadata": {},
   "source": [
    "In the first example, `double_in_place()` operated on the list that you passed to it as a parameter. In other words,\n",
    "inside the function `double_in_place()`, the variable `alist` refers to the same piece of memory that `numbers`\n",
    "refers to outside the function. The \"in place\" update of `alist` also affects `numbers`. In computer science language,\n",
    "we say that `double_in_place()` returns nothing but it has the side effect of doubling the numbers in the list that it is passed.\n",
    "\n",
    "In the second example, `return_double()` still has `alist` which still refers to the same memory as `numbers` but it does\n",
    "not change `alist`, but rather returns a new list which contains the doubles of each number in the list it is passed. The downside to this is that the new list means that extra memory is being used (for the new list). In general, however, functions should\n",
    "transform and not have \"side effects\" because it makes code much easier to read and understand."
   ]
  },
  {
   "cell_type": "code",
   "execution_count": null,
   "metadata": {},
   "outputs": [],
   "source": []
  }
 ],
 "metadata": {
  "kernelspec": {
   "display_name": "Python [Root]",
   "language": "python",
   "name": "Python [Root]"
  },
  "language_info": {
   "codemirror_mode": {
    "name": "ipython",
    "version": 3
   },
   "file_extension": ".py",
   "mimetype": "text/x-python",
   "name": "python",
   "nbconvert_exporter": "python",
   "pygments_lexer": "ipython3",
   "version": "3.5.4"
  }
 },
 "nbformat": 4,
 "nbformat_minor": 2
}
